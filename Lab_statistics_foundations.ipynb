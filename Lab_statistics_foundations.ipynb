{
 "cells": [
  {
   "cell_type": "markdown",
   "metadata": {},
   "source": [
    "# Challenge 1\n",
    "\n",
    "One player rolls two dices. Describe the measure space and the random variable for:\n",
    "\n",
    "A. The numbers he/she obtains\n",
    "\n",
    "B. The sum of the rolls\n",
    "\n",
    "C. Take only the maximum value\n",
    "\n",
    "\n",
    "Describe the following events:\n",
    "\n",
    "For case A: both numbers are greater than 5\n",
    "\n",
    "Case B: The sum is even\n",
    "\n",
    "Case C: the maximum is the value of both rolls"
   ]
  },
  {
   "cell_type": "markdown",
   "metadata": {},
   "source": [
    "## Answer\n",
    "Measure space and random variable:\n",
    "\n",
    "A) \n",
    "\n",
    "Omega defines the possible experiments:\n",
    "\n",
    "    measure space (omega): {(1,5),(4,2),(6,3),(6,4),(5,6)}\n",
    "    str: {(1, 1), (1,2), (1,3),(1,4),(1,5),(1,6),(2,1),(2,2),(2,3),...,(6,6),(1,1,1),(3,6,5),...}\n",
    "    random variable: X((2,3))=(2,3)\n",
    "\n",
    "B) \n",
    "    \n",
    "    X((2,3)) = 5 --> X((a,b)) = a+b\n",
    "    X((1,1)) = 2; X((1,2)) = X((2,1)) = 3; X((2,2))=X((1,3))=X((3,1)) = 4, X((1,4))=X((4,1))=X((2,3))=X((3,2))...=5\n",
    "\n",
    "C) \n",
    "    \n",
    "    X((2,3)) = 3 --> X((a,b)) = Max(a,b)\n",
    "    X((1,4)) = 4; X((6,5)) = 6; X((3,5)) = 5...\n",
    "\n",
    "Describing the events:\n",
    "\n",
    "A)\n",
    "\n",
    "    X((6,6))\n",
    "\n",
    "B)\n",
    "\n",
    "    X((1,1)),X((1,3)),X((1,5)),X((3,5)),... \n",
    "\n",
    "C)\n",
    "\n",
    "    X((1,1)),X((2,2)),X((3,3)),X((4,4)),X((5,5)),X((6,6))"
   ]
  },
  {
   "cell_type": "markdown",
   "metadata": {},
   "source": [
    "# Challenge 2\n",
    "\n",
    "One player is taking two cards from poker deck. Describe the measure space and the random variable for:\n",
    "\n",
    "A. The number of figures he takes.\n",
    "\n",
    "B. The sum of the cards (figures sum 10 and ace sum 15)\n",
    "\n",
    "C. The number of hearts or spades he takes.\n",
    "\n",
    "\n",
    "Describe the 3 following events:\n",
    "\n",
    "For case A. The number of figures is two.\n",
    "\n",
    "Case B: The sum is 17.\n",
    "\n",
    "Case C: The number is less than 8"
   ]
  },
  {
   "cell_type": "markdown",
   "metadata": {},
   "source": [
    "## Answer\n",
    "\n",
    "A)\n",
    "\n",
    "    omega = {(A,A),(2,3),(4,J),(5,K),(6,A),(7,8),(9,10),(A,J),(Q,K)}\n",
    "    X((2,J)) = 1\n",
    "\n",
    "B)\n",
    "\n",
    "    X((2,J)) = 12\n",
    "\n",
    "C)\n",
    "\n",
    "    omega = {(Ah,6t),(5h,10t),...}\n",
    "    \n",
    "    X((2s, Jh)) = 2; X((Ad,Kt)) = 0 \n",
    "    \n",
    "Describing the events:\n",
    "\n",
    "A)\n",
    "\n",
    "    X((J,J)),X((J,Q)),X((Q,J)),X((K,Q)),X((Q,K)),X((K,K)),X((J,K))...\n",
    "    \n",
    "B)\n",
    "\n",
    "    X((K,7)),X((Q,7)),X((J,7))...\n",
    "    \n",
    "C)\n",
    "\n",
    "    X((A,A)),X((2,A)),X((3,4)),X((5,6)),..."
   ]
  },
  {
   "cell_type": "markdown",
   "metadata": {},
   "source": [
    "# Challenge 3\n",
    "\n",
    "Two players roll a dice. Describe the measure space and the random variable for:\n",
    "\n",
    "* The score for player A\n",
    "* Greatest score\n",
    "* Earnings of player A with the rule “the player that has the greatest score receives a coin for the other player”\n",
    "* Earnings of the player A with the rule “the player that has the greatest score receives the difference between the two scores”\n",
    "\n",
    "Describe the events:\n",
    "\n",
    "* The score of player A is 2 (case A)\n",
    "* The greatest punctuation is <=2 (case B)\n",
    "* If the winner pays the other the difference (case D):\n",
    "* A wins at least 4 coins.\n",
    "* A loses more than 2 coins.\n",
    "* No one loses."
   ]
  },
  {
   "cell_type": "markdown",
   "metadata": {},
   "source": [
    "* The score for player A\n",
    "\n",
    "       OMEGA: {1,2,3,4,5,6}\n",
    "       str: (1),(2),(3),(4),(5),(6)\n",
    "       RV: X(1) = 1\n",
    "  \n",
    "* Greatest score\n",
    "\n",
    "        OMEGA: {2,3,4,5,6}\n",
    "        str: (2),(3),(4),(5),(6)\n",
    "        RV: X(2) = 2\n",
    "    \n",
    "* Earnings of player A with the rule “the player that has the greatest score receives a coin for the other player”\n",
    "\n",
    "        OMEGA: {-1,0,1}\n",
    "        str:-1,0,1\n",
    "        RV: \n",
    "        \n",
    "* Earnings of the player A with the rule “the player that has the greatest score receives the difference between the two scores”\n",
    "\n",
    "        OMEGA: {-5,-4,-3,-2,-1,0,1,2,3,4,5}\n",
    "        str: 1,2,3,4,5\n",
    "        RV: X((1,6))=5,X((2,6))=4,X((3,2))=1, X((4,2))=-2"
   ]
  },
  {
   "cell_type": "markdown",
   "metadata": {},
   "source": [
    "# Challenge 4\n",
    "\n",
    "Three players take balls. There are red, blue, green and black balls. They can take three balls at most with the following rules:\n",
    "\n",
    "* If the ball is red they can’t take another ball.\n",
    "* If the ball is green they earn a point and they can take another ball.\n",
    "* If the ball is blue they can take another ball.\n",
    "* If the ball is black one point is removed and they can’t take another ball.\n",
    "\n",
    "Describe the measure space and the random variable for:\n",
    "\n",
    "* Player A wins (no tie).\n",
    "* Player A and B get the same points.\n",
    "* All players get 0 points."
   ]
  },
  {
   "cell_type": "markdown",
   "metadata": {},
   "source": [
    "For 1 player:\n",
    "\n",
    "    OMEGA: {((red),(green,red),(green, green, red)),((blue,green,green),(blue,green,blue),(blue,green,black)),((green,black),(blue,red),(blue,green,red))}\n",
    "    \n",
    "    str: ((red),(green,red),(green, green, red)),((blue,green,green),(blue,green,blue),(blue,green,black)),((green,black),(blue,red),(blue,green,red))\n",
    "    \n",
    "    RV: \n",
    "    X((red))=X((green,blue,black))=X((green,black))=X((blue,red))=X((blue,green,black))=X((blue,blue,red))=X((blue,blue,blue))=0\n",
    "    \n",
    "    X((green,red)),X((green,green,black));X((green,blue,red)),X((green,blue,blue)),X((blue,green,red)),X((blue,green,blue)),X((blue,blue,green))=1\n",
    "    \n",
    "    X((green, green, red))=X((green, green,blue))=X((green,blue,green))=X((blue,green,green))=2\n",
    "    \n",
    "    X((green,green,green))=3\n",
    "    \n",
    "    X((blue,blue,black))=X((blue,black))=X((black))=-1    "
   ]
  },
  {
   "cell_type": "markdown",
   "metadata": {},
   "source": [
    "# Challenge 5\n",
    "\n",
    "Now we are four players. What changes for each case?"
   ]
  },
  {
   "cell_type": "code",
   "execution_count": null,
   "metadata": {},
   "outputs": [],
   "source": []
  },
  {
   "cell_type": "markdown",
   "metadata": {},
   "source": [
    "# Challenge 6\n",
    "\n",
    "We have 5 balls in an urn, two black and three white. Describe the measure space and the random variable for:\n",
    "\n",
    "* The number of white balls after 3 takes, if every time we take a ball we keep it.\n",
    "* The number of white balls after 3 takes, if every time we take a ball we put it again into the urn.\n",
    "* The number of black balls after 3 takes, if every time we take a ball we keep it.\n",
    "* The number of black balls after 3 takes, if every time we take a ball we put it again into the urn."
   ]
  },
  {
   "cell_type": "markdown",
   "metadata": {},
   "source": [
    "Experiment: \n",
    "\n",
    "    OMEGA: {(B,B),(B,W),(W,W),(W,B)}\n",
    "    str: {(B,B),(B,W),(W,W),(W,B),(W),(B),()}\n",
    "    X((B,B))=0"
   ]
  },
  {
   "cell_type": "code",
   "execution_count": null,
   "metadata": {},
   "outputs": [],
   "source": []
  }
 ],
 "metadata": {
  "kernelspec": {
   "display_name": "Python 3",
   "language": "python",
   "name": "python3"
  },
  "language_info": {
   "codemirror_mode": {
    "name": "ipython",
    "version": 3
   },
   "file_extension": ".py",
   "mimetype": "text/x-python",
   "name": "python",
   "nbconvert_exporter": "python",
   "pygments_lexer": "ipython3",
   "version": "3.7.2"
  }
 },
 "nbformat": 4,
 "nbformat_minor": 2
}
